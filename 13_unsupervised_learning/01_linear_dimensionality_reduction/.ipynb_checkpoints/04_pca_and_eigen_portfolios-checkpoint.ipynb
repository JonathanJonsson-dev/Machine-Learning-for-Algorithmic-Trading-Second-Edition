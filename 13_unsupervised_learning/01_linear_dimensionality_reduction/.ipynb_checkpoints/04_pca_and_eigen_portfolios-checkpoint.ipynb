{
 "cells": [
  {
   "cell_type": "markdown",
   "metadata": {},
   "source": [
    "# PCA for Algorithmic Trading: Eigen Portfolios"
   ]
  },
  {
   "cell_type": "markdown",
   "metadata": {},
   "source": [
    "## Imports & Settings"
   ]
  },
  {
   "cell_type": "code",
   "execution_count": 78,
   "metadata": {
    "ExecuteTime": {
     "end_time": "2020-06-18T14:19:50.331659Z",
     "start_time": "2020-06-18T14:19:50.329374Z"
    }
   },
   "outputs": [],
   "source": [
    "import warnings\n",
    "warnings.filterwarnings('ignore')"
   ]
  },
  {
   "cell_type": "code",
   "execution_count": 79,
   "metadata": {
    "ExecuteTime": {
     "end_time": "2020-06-18T14:19:50.862864Z",
     "start_time": "2020-06-18T14:19:50.333663Z"
    }
   },
   "outputs": [],
   "source": [
    "%matplotlib inline\n",
    "\n",
    "import numpy as np\n",
    "import pandas as pd\n",
    "\n",
    "import matplotlib.pyplot as plt\n",
    "import seaborn as sns\n",
    "from sklearn.decomposition import PCA\n",
    "from sklearn.preprocessing import scale"
   ]
  },
  {
   "cell_type": "code",
   "execution_count": 80,
   "metadata": {
    "ExecuteTime": {
     "end_time": "2020-06-18T14:19:50.866571Z",
     "start_time": "2020-06-18T14:19:50.864177Z"
    }
   },
   "outputs": [],
   "source": [
    "sns.set_style('white')\n",
    "np.random.seed(42)"
   ]
  },
  {
   "cell_type": "markdown",
   "metadata": {},
   "source": [
    "## Eigenportfolios"
   ]
  },
  {
   "cell_type": "markdown",
   "metadata": {},
   "source": [
    "Another application of PCA involves the covariance matrix of the normalized returns. The principal components of the correlation matrix capture most of the covariation among assets in descending order and are mutually uncorrelated. Moreover, we can use standardized the principal components as portfolio weights.\n",
    "\n",
    "Let’s use the 30 largest stocks with data for the 2010-2018 period to facilitate the exposition:"
   ]
  },
  {
   "cell_type": "markdown",
   "metadata": {},
   "source": [
    "### Data Preparation"
   ]
  },
  {
   "cell_type": "code",
   "execution_count": 81,
   "metadata": {
    "ExecuteTime": {
     "end_time": "2020-06-18T14:19:52.921865Z",
     "start_time": "2020-06-18T14:19:50.867865Z"
    }
   },
   "outputs": [],
   "source": [
    "#idx = pd.IndexSlice\n",
    "#with pd.HDFStore('../../data/assets.h5') as store:\n",
    "#    stocks = store['us_equities/stocks'].marketcap.nlargest(30)\n",
    "#    returns = (store['quandl/wiki/prices']\n",
    "#               .loc[idx['2010': '2018', stocks.index], 'adj_close']\n",
    "#               .unstack('ticker')\n",
    "#               .pct_change())"
   ]
  },
  {
   "cell_type": "code",
   "execution_count": 82,
   "metadata": {},
   "outputs": [],
   "source": [
    "import pandas_datareader.data as web\n",
    "from datetime import datetime\n",
    "from dateutil.relativedelta import relativedelta\n",
    "\n",
    "def download_data(lookback):\n",
    "    # Downloading data\n",
    "    #stocks = ['SPY', 'TLT', 'GLD', '^VIX', 'SSG', 'FXI', 'REK', 'RWM', 'SEF', 'EFZ', 'SH', 'SJB', '^OMX', 'IEF', 'DBC', 'VNQ']\n",
    "    #stocks = ['SPY', 'TLT', 'GLD', '^VIX', 'DBC', '^OMX', 'IEF', 'VNQ']\n",
    "    stocks = ['TSLA', 'TLT', 'GC=F', '^VIX']\n",
    "    #stocks = ['SALT-B.ST', 'VSSAB-B.ST', 'LEO.ST', 'SAAB-B.ST', \n",
    "    #         'VICO.ST', 'IPCO.ST', 'BONEX.ST', 'CAMX.ST', 'ARP.ST', 'SPY', 'TLT', 'GLD', 'DBC', '^OMX', 'IEF', 'VNQ']\n",
    "    #stocks = ['CRNC', 'ERIC', 'GHUS-B.ST', 'FRACTL.ST', 'QLIRO.ST',\n",
    "    #          'SLVM', 'CCSI', 'VTSC.DE', 'ANNE-B.ST', 'MAXN', 'VMEO', 'GLD', '^VIX', 'DBC'] # Spinoffs\n",
    "    #stocks = ['SPY', 'TLT', 'GLD', '^VIX', 'CSD', 'DBC', 'VNQ', 'IEF'] # CSD = Invesco S&P Spin-Off ETF\n",
    "    #stocks = ['SPY', 'TLT', 'GLD', '^VIX', 'CSD', 'DBC', 'VNQ', 'CL=F'] # CSD = Invesco S&P Spin-Off ETF\n",
    "    #stocks = ['SPY', 'TLT', 'GLD', 'IEF', 'DBC', '^VIX','VNQ']\n",
    "    #stocks = ['VTI', 'TLT', 'GLD', 'DBC', 'IEF'] # All weather portfolio\n",
    "    #stocks = ['BWX', 'DBC', 'EMB', 'GLD', 'IYR', 'RWX', 'TLT', 'VGK', 'VPL', 'VTI', 'VWO']\n",
    "    #stocks = ['^OMX', 'TLT', 'IEF', 'DBC']\n",
    "    #stocks = ['ERDN.SG', 'FRNRX', 'GLD', 'TLT']\n",
    "    start_date = datetime.now() - relativedelta(years = lookback)\n",
    "    end_date = datetime.today().strftime('%Y-%m-%d')\n",
    "    Y = web.DataReader(stocks, 'yahoo', start_date, end_date)['Adj Close'].pct_change().dropna()\n",
    "    return Y"
   ]
  },
  {
   "cell_type": "code",
   "execution_count": 83,
   "metadata": {},
   "outputs": [],
   "source": [
    "lookback = 20\n",
    "returns = download_data(lookback)"
   ]
  },
  {
   "cell_type": "markdown",
   "metadata": {},
   "source": [
    "We again winsorize and also normalize the returns:"
   ]
  },
  {
   "cell_type": "code",
   "execution_count": 84,
   "metadata": {
    "ExecuteTime": {
     "end_time": "2020-06-18T14:19:52.972829Z",
     "start_time": "2020-06-18T14:19:52.922836Z"
    }
   },
   "outputs": [],
   "source": [
    "normed_returns = scale(returns\n",
    "                       .clip(lower=returns.quantile(q=.025), \n",
    "                             upper=returns.quantile(q=.975), \n",
    "                             axis=1)\n",
    "                      .apply(lambda x: x.sub(x.mean()).div(x.std())))"
   ]
  },
  {
   "cell_type": "code",
   "execution_count": 85,
   "metadata": {
    "ExecuteTime": {
     "end_time": "2020-06-18T14:19:52.985094Z",
     "start_time": "2020-06-18T14:19:52.973751Z"
    }
   },
   "outputs": [
    {
     "name": "stdout",
     "output_type": "stream",
     "text": [
      "<class 'pandas.core.frame.DataFrame'>\n",
      "DatetimeIndex: 3068 entries, 2010-06-30 to 2022-09-02\n",
      "Data columns (total 4 columns):\n",
      " #   Column  Non-Null Count  Dtype  \n",
      "---  ------  --------------  -----  \n",
      " 0   TSLA    3068 non-null   float64\n",
      " 1   TLT     3068 non-null   float64\n",
      " 2   GC=F    3068 non-null   float64\n",
      " 3   ^VIX    3068 non-null   float64\n",
      "dtypes: float64(4)\n",
      "memory usage: 119.8 KB\n"
     ]
    }
   ],
   "source": [
    "returns = returns.dropna(thresh=int(returns.shape[0] * .95), axis=1)\n",
    "returns = returns.dropna(thresh=int(returns.shape[1] * .95))\n",
    "returns.info()"
   ]
  },
  {
   "cell_type": "code",
   "execution_count": 86,
   "metadata": {
    "ExecuteTime": {
     "end_time": "2020-06-18T14:19:53.022417Z",
     "start_time": "2020-06-18T14:19:52.986778Z"
    }
   },
   "outputs": [],
   "source": [
    "cov = returns.cov()"
   ]
  },
  {
   "cell_type": "code",
   "execution_count": 87,
   "metadata": {
    "ExecuteTime": {
     "end_time": "2020-06-18T14:19:53.533028Z",
     "start_time": "2020-06-18T14:19:53.023680Z"
    }
   },
   "outputs": [
    {
     "data": {
      "image/png": "[encoded data removed]",
      "text/plain": [
       "<Figure size 720x720 with 4 Axes>"
      ]
     },
     "metadata": {},
     "output_type": "display_data"
    }
   ],
   "source": [
    "sns.clustermap(cov);"
   ]
  },
  {
   "cell_type": "markdown",
   "metadata": {},
   "source": [
    "### Run PCA"
   ]
  },
  {
   "cell_type": "markdown",
   "metadata": {},
   "source": [
    "After dropping assets and trading days as in the previous example, we are left with 23 assets and over 2,000 trading days. We estimate all principal components and find that the two largest explain 57.6% and 12.4% of the covariation, respectively:"
   ]
  },
  {
   "cell_type": "code",
   "execution_count": 88,
   "metadata": {
    "ExecuteTime": {
     "end_time": "2020-06-18T14:19:53.577975Z",
     "start_time": "2020-06-18T14:19:53.533908Z"
    }
   },
   "outputs": [
    {
     "data": {
      "text/html": [
       "<style type=\"text/css\">\n",
       "</style>\n",
       "<table id=\"T_26ee8\">\n",
       "  <thead>\n",
       "    <tr>\n",
       "      <th class=\"blank level0\" >&nbsp;</th>\n",
       "      <th id=\"T_26ee8_level0_col0\" class=\"col_heading level0 col0\" >Explained Variance</th>\n",
       "    </tr>\n",
       "  </thead>\n",
       "  <tbody>\n",
       "    <tr>\n",
       "      <th id=\"T_26ee8_level0_row0\" class=\"row_heading level0 row0\" >0</th>\n",
       "      <td id=\"T_26ee8_row0_col0\" class=\"data row0 col0\" >98.26%</td>\n",
       "    </tr>\n",
       "    <tr>\n",
       "      <th id=\"T_26ee8_level0_row1\" class=\"row_heading level0 row1\" >1</th>\n",
       "      <td id=\"T_26ee8_row1_col0\" class=\"data row1 col0\" >1.72%</td>\n",
       "    </tr>\n",
       "    <tr>\n",
       "      <th id=\"T_26ee8_level0_row2\" class=\"row_heading level0 row2\" >2</th>\n",
       "      <td id=\"T_26ee8_row2_col0\" class=\"data row2 col0\" >0.01%</td>\n",
       "    </tr>\n",
       "    <tr>\n",
       "      <th id=\"T_26ee8_level0_row3\" class=\"row_heading level0 row3\" >3</th>\n",
       "      <td id=\"T_26ee8_row3_col0\" class=\"data row3 col0\" >0.00%</td>\n",
       "    </tr>\n",
       "  </tbody>\n",
       "</table>\n"
      ],
      "text/plain": [
       "<pandas.io.formats.style.Styler at 0x17250bb13a0>"
      ]
     },
     "execution_count": 88,
     "metadata": {},
     "output_type": "execute_result"
    }
   ],
   "source": [
    "pca = PCA()\n",
    "pca.fit(cov)\n",
    "pd.Series(pca.explained_variance_ratio_).to_frame('Explained Variance').head().style.format('{:,.2%}'.format)"
   ]
  },
  {
   "cell_type": "markdown",
   "metadata": {},
   "source": [
    "### Create PF weights from principal components"
   ]
  },
  {
   "cell_type": "markdown",
   "metadata": {},
   "source": [
    "Next, we select and normalize the four largest components so that they sum to 1 and we can use them as weights for portfolios that we can compare to an equal-weighted portfolio formed from all stocks::"
   ]
  },
  {
   "cell_type": "code",
   "execution_count": 89,
   "metadata": {
    "ExecuteTime": {
     "end_time": "2020-06-18T14:19:53.583593Z",
     "start_time": "2020-06-18T14:19:53.579240Z"
    }
   },
   "outputs": [],
   "source": [
    "n = len(returns.columns)\n",
    "top4 = pd.DataFrame(pca.components_[:n], columns=cov.columns)\n",
    "eigen_portfolios = top4.div(top4.sum(1), axis=0)\n",
    "eigen_portfolios.index = [f'Portfolio {i}' for i in range(1, n + 1)]"
   ]
  },
  {
   "cell_type": "markdown",
   "metadata": {},
   "source": [
    "### Eigenportfolio Weights"
   ]
  },
  {
   "cell_type": "markdown",
   "metadata": {},
   "source": [
    "The weights show distinct emphasis, e.g., portfolio 3 puts large weights on Mastercard and Visa, the two payment processors in the sampel whereas potfolio 2 has more exposure to some technology companies:"
   ]
  },
  {
   "cell_type": "code",
   "execution_count": 90,
   "metadata": {
    "ExecuteTime": {
     "end_time": "2020-06-18T14:19:54.462300Z",
     "start_time": "2020-06-18T14:19:53.584932Z"
    }
   },
   "outputs": [
    {
     "data": {
      "image/png": "[encoded data removed]",
      "text/plain": [
       "<Figure size 1008x576 with 16 Axes>"
      ]
     },
     "metadata": {},
     "output_type": "display_data"
    }
   ],
   "source": [
    "axes = eigen_portfolios.T.plot.bar(subplots=True,\n",
    "                                   layout=(n, n),\n",
    "                                   figsize=(14, 8),\n",
    "                                   legend=False)\n",
    "for ax in axes.flatten():\n",
    "    ax.set_ylabel('Portfolio Weight')\n",
    "    ax.set_xlabel('')\n",
    "sns.despine()\n",
    "plt.tight_layout()"
   ]
  },
  {
   "cell_type": "markdown",
   "metadata": {},
   "source": [
    "### Eigenportfolio Performance"
   ]
  },
  {
   "cell_type": "markdown",
   "metadata": {},
   "source": [
    "When comparing the performance of each portfolio over the sample period to ‘the market’ consisting of our small sample, we find that portfolio 1 performs very similarly, whereas the other portfolios capture different return patterns."
   ]
  },
  {
   "cell_type": "code",
   "execution_count": 91,
   "metadata": {
    "ExecuteTime": {
     "end_time": "2020-06-18T14:19:55.291424Z",
     "start_time": "2020-06-18T14:19:54.463212Z"
    }
   },
   "outputs": [
    {
     "data": {
      "image/png": "[encoded data removed]",
      "text/plain": [
       "<Figure size 1008x432 with 4 Axes>"
      ]
     },
     "metadata": {},
     "output_type": "display_data"
    }
   ],
   "source": [
    "fig, axes = plt.subplots(nrows=1, ncols=n, figsize=(14, 6), sharex=True)\n",
    "axes = axes.flatten()\n",
    "returns.mean(1).add(1).cumprod().sub(1).plot(title='The Market', ax=axes[0])\n",
    "for i in range(3):\n",
    "    rc = returns.mul(eigen_portfolios.iloc[i]).sum(1).add(1).cumprod().sub(1)\n",
    "    rc.plot(title=f'Portfolio {i+1}', ax=axes[i+1], lw=1, rot=0)\n",
    "\n",
    "for i in range(n):\n",
    "    axes[i].set_xlabel('')\n",
    "sns.despine()\n",
    "fig.tight_layout()"
   ]
  },
  {
   "cell_type": "code",
   "execution_count": 92,
   "metadata": {},
   "outputs": [
    {
     "name": "stdout",
     "output_type": "stream",
     "text": [
      "Symbols          TSLA       TLT      GC=F      ^VIX\n",
      "Portfolio 1 -0.265874  0.038549 -0.005266  1.232592\n",
      "Portfolio 2  0.897570 -0.054261 -0.038451  0.195142\n",
      "Portfolio 3 -0.021748 -2.445574  3.381083  0.086239\n",
      "Portfolio 4  0.051528  0.552708  0.400225 -0.004461\n"
     ]
    }
   ],
   "source": [
    "print(eigen_portfolios)"
   ]
  },
  {
   "cell_type": "code",
   "execution_count": null,
   "metadata": {},
   "outputs": [],
   "source": []
  },
  {
   "cell_type": "code",
   "execution_count": null,
   "metadata": {},
   "outputs": [],
   "source": []
  }
 ],
 "metadata": {
  "kernelspec": {
   "display_name": "Python 3 (ipykernel)",
   "language": "python",
   "name": "python3"
  },
  "language_info": {
   "codemirror_mode": {
    "name": "ipython",
    "version": 3
   },
   "file_extension": ".py",
   "mimetype": "text/x-python",
   "name": "python",
   "nbconvert_exporter": "python",
   "pygments_lexer": "ipython3",
   "version": "3.9.13"
  },
  "toc": {
   "base_numbering": 1,
   "nav_menu": {},
   "number_sections": true,
   "sideBar": true,
   "skip_h1_title": true,
   "title_cell": "Table of Contents",
   "title_sidebar": "Contents",
   "toc_cell": false,
   "toc_position": {},
   "toc_section_display": true,
   "toc_window_display": true
  }
 },
 "nbformat": 4,
 "nbformat_minor": 2
}
