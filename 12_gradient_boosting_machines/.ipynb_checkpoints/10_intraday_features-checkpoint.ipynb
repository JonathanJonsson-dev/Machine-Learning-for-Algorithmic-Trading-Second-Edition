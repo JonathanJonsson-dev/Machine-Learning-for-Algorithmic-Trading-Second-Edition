{
 "cells": [
  {
   "cell_type": "markdown",
   "metadata": {},
   "source": [
    "# Intraday Strategy, Part 1: Feature Engineering"
   ]
  },
  {
   "cell_type": "markdown",
   "metadata": {},
   "source": [
    "In this notebook, we load the high-quality NASDAQ100 minute-bar trade-and-quote data generously provided by [Algoseek](https://www.algoseek.com/) (available [here](https://www.algoseek.com/ml4t-book-data.html)) and engineer a few illustrative features. \n",
    "\n",
    "The rich set of trade and quote information contained in the Algoseek data offers various opportunities to add inforation, e.g. about relative spreads and demand/supply imbalances, but since the data is fairly large we limit our efforts to a small number of features.\n",
    "\n",
    "> Note that we will assume throughout that we can always buy (sell) at the first (last) trade price for a given bar at no cost and without market impact; this is unlikely to be true in reality but simplifies the example).\n",
    "\n",
    "The next notebook will use this dataset to train a model that predicts 1-minute returns using LightGBM."
   ]
  },
  {
   "cell_type": "markdown",
   "metadata": {},
   "source": [
    "## Imports & Settings"
   ]
  },
  {
   "cell_type": "code",
   "execution_count": 40,
   "metadata": {
    "ExecuteTime": {
     "end_time": "2021-01-20T01:09:03.350026Z",
     "start_time": "2021-01-20T01:09:03.347904Z"
    }
   },
   "outputs": [],
   "source": [
    "import warnings\n",
    "warnings.filterwarnings('ignore')"
   ]
  },
  {
   "cell_type": "code",
   "execution_count": 41,
   "metadata": {
    "ExecuteTime": {
     "end_time": "2021-01-20T01:09:04.058323Z",
     "start_time": "2021-01-20T01:09:03.351702Z"
    }
   },
   "outputs": [],
   "source": [
    "%matplotlib inline\n",
    "\n",
    "from pathlib import Path\n",
    "from tqdm import tqdm\n",
    "\n",
    "import numpy as np\n",
    "import pandas as pd\n",
    "\n",
    "from scipy.stats import spearmanr\n",
    "#import talib\n",
    "\n",
    "import matplotlib.pyplot as plt\n",
    "from matplotlib.ticker import FuncFormatter\n",
    "import seaborn as sns\n",
    "import ntpath as path"
   ]
  },
  {
   "cell_type": "code",
   "execution_count": 42,
   "metadata": {
    "ExecuteTime": {
     "end_time": "2021-01-20T01:09:04.061160Z",
     "start_time": "2021-01-20T01:09:04.059324Z"
    }
   },
   "outputs": [],
   "source": [
    "sns.set_style('whitegrid')\n",
    "idx = pd.IndexSlice\n",
    "deciles = np.arange(.1, 1, .1)"
   ]
  },
  {
   "cell_type": "markdown",
   "metadata": {},
   "source": [
    "## Algoseek Trade & Quote Minute Bar Data"
   ]
  },
  {
   "cell_type": "markdown",
   "metadata": {},
   "source": [
    "### Data Dictionary"
   ]
  },
  {
   "cell_type": "markdown",
   "metadata": {},
   "source": [
    "The Quote fields are based on changes to the NBBO ([National Best Bid Offer](https://www.investopedia.com/terms/n/nbbo.asp)) from the top-of-book price and size from\n",
    "each of the exchanges.\n",
    "\n",
    "The enhanced Trade & Quote bar fields include the following fields:\n",
    "- **Field**: Name of Field.\n",
    "- **Q / T**: Field based on Quotes or Trades\n",
    "- **Type**: Field format\n",
    "- **No Value**: Value of field when there is no value or data. \n",
    "  - Note: “Never” means field should always have a value EXCEPT for the first bar of the day.\n",
    "- **Description**: Description of the field.\n",
    "\n",
    "See [docs](https://us-equity-market-data-docs.s3.amazonaws.com/algoseek.US.Equity.TAQ.Minute.Bars.pdf) for additional detail."
   ]
  },
  {
   "cell_type": "markdown",
   "metadata": {},
   "source": [
    "| id  | Field                   | Q/T  | Type                          |  No Value | Description                                                                                                                                                                                                         |\n",
    "|:---:|:------------------------|:----:|:------------------------------|:---------:|:--------------------------------------------------------------------------------------------------------------------------------------------------------------------------------------------------------------------|\n",
    "| 1  | `Date`                   |      | YYYYMMDD                      | Never     | Trade Date                                                                                                                                                                                                          |\n",
    "| 2  | `Ticker`                 |      | String                       | Never      | Ticker Symbol                                                                                                                                                                                                       |\n",
    "| 3  | `TimeBarStart`           |      | HHMM <br>HHMMSS <br>HHMMSSMMM | Never     | For minute bars: HHMM. <br>For second bars: HHMMSS. <br>Examples<br>- One second bar 130302 is from time greater than 130301 to 130302.<br>- One minute bar 1104 is from time greater than 1103 to 1104. |\n",
    "| 4  | `OpenBarTime`            | Q    | HHMMSSMMM                    | Never      | Open Time of the Bar, for example one minute:<br>11:03:00.000                                                                                                                                                       |\n",
    "| 5  | `OpenBidPrice`           | Q    | Number                        | Never     | NBBO Bid Price as of bar Open                                                                                                                                                                                       |\n",
    "| 6  | `OpenBidSize`            | Q    | Number                        | Never     | Total Size from all Exchanges with<br>OpenBidPrice                                                                                                                                                                  |\n",
    "| 7  | `OpenAskPrice`           | Q    | Number                        | Never     | NBBO Ask Price as of bar Open                                                                                                                                                                                       |\n",
    "| 8  | `OpenAskSize`            | Q    | Number                        | Never     | Total Size from all Exchange with<br>OpenAskPrice                                                                                                                                                                   |\n",
    "| 9  | `FirstTradeTime`         | T    | HHMMSSMMM                     | Blank     | Time of first Trade                                                                                                                                                                                                 |\n",
    "| 10 | `FirstTradePrice`        | T    | Number                        | Blank     | Price of first Trade                                                                                                                                                                                                |\n",
    "| 11 | `FirstTradeSize`         | T    | Number                        | Blank     | Number of shares of first trade                                                                                                                                                                                     |\n",
    "| 12 | `HighBidTime`            | Q    | HHMMSSMMM                     | Never     | Time of highest NBBO Bid Price                                                                                                                                                                                      |\n",
    "| 13 | `HighBidPrice`           | Q    | Number                        | Never     | Highest NBBO Bid Price                                                                                                                                                                                              |\n",
    "| 14 | `HighBidSize`            | Q    | Number                        | Never     | Total Size from all Exchanges with HighBidPrice                                                                                                                                                                  |\n",
    "| 15 | `AskPriceAtHighBidPrice` | Q    | Number                        | Never     | Ask Price at time of Highest Bid Price                                                                                                                                                                              |\n",
    "| 16 | `AskSizeAtHighBidPrice`  | Q    | Number                        | Never     | Total Size from all Exchanges with `AskPriceAtHighBidPrice`                                                                                                                                                        |\n",
    "| 17 | `HighTradeTime`          | T    | HHMMSSMMM                     | Blank     | Time of Highest Trade                                                                                                                                                                                               |\n",
    "| 18 | `HighTradePrice`         | T    | Number                        | Blank     | Price of highest Trade                                                                                                                                                                                              |\n",
    "| 19 | `HighTradeSize`          | T    | Number                        | Blank     | Number of shares of highest trade                                                                                                                                                                                   |\n",
    "| 20 | `LowBidTime`             | Q    | HHMMSSMMM                     | Never     | Time of lowest Bid                                                                                                                                                                                                  |\n",
    "| 21 | `LowBidPrice`            | Q    | Number                        | Never     | Lowest NBBO Bid price of bar.                                                                                                                                                                                       |\n",
    "| 22 | `LowBidSize`             | Q    | Number                        | Never     | Total Size from all Exchanges with `LowBidPrice`                                                                                                                                                                   |\n",
    "| 23 | `AskPriceAtLowBidPrice`  | Q    | Number                        | Never     | Ask Price at lowest Bid price                                                                                                                                                                                       |\n",
    "| 24  | `AskSizeAtLowBidPrice`  | Q    | Number                        | Never     | Total Size from all Exchanges with `AskPriceAtLowBidPrice`                                                                                                                                                                                       |\n",
    "| 25  | `LowTradeTime`          | T    | HHMMSSMMM                     | Blank     | Time of lowest Trade                                                                                                                                                                                                                             |\n",
    "| 26  | `LowTradePrice`         | T    | Number                        | Blank     | Price of lowest Trade                                                                                                                                                                                                                            |\n",
    "| 27  | `LowTradeSize`          | T    | Number                        | Blank     | Number of shares of lowest trade                                                                                                                                                                                                                 |\n",
    "| 28  | `CloseBarTime`          | Q    | HHMMSSMMM                     | Never     | Close Time of the Bar, for example one minute: 11:03:59.999                                                                                                                                                                                      |\n",
    "| 29  | `CloseBidPrice`         | Q    | Number                        | Never     | NBBO Bid Price at bar Close                                                                                                                                                                                                                      |\n",
    "| 30  | `CloseBidSize`          | Q    | Number                        | Never     | Total Size from all Exchange with `CloseBidPrice`                                                                                                                                                                                                |\n",
    "| 31  | `CloseAskPrice`         | Q    | Number                        | Never     | NBBO Ask Price at bar Close                                                                                                                                                                                                                      |\n",
    "| 32  | `CloseAskSize`          | Q    | Number                        | Never     | Total Size from all Exchange with `CloseAskPrice`                                                                                                                                                                                                |\n",
    "| 33  | `LastTradeTime`         | T    | HHMMSSMMM                     | Blank     | Time of last Trade                                                                                                                                                                                                                               |\n",
    "| 34  | `LastTradePrice`        | T    | Number                        | Blank     | Price of last Trade                                                                                                                                                                                                                              |\n",
    "| 35  | `LastTradeSize`         | T    | Number                        | Blank     | Number of shares of last trade                                                                                                                                                                                                                   |\n",
    "| 36  | `MinSpread`             | Q    | Number                        | Never     | Minimum Bid-Ask spread size. This may be 0 if the market was crossed during the bar.<br/>If negative spread due to back quote, make it 0.                                                                                                            |\n",
    "| 37  | `MaxSpread`             | Q    | Number                        | Never     | Maximum Bid-Ask spread in bar                                                                                                                                                                                                                    |\n",
    "| 38  | `CancelSize`            | T    | Number                        | 0         | Total shares canceled. Default=blank                                                                                                                                                                                                             |\n",
    "| 39  | `VolumeWeightPrice`     | T    | Number                        | Blank     | Trade Volume weighted average price <br>Sum((`Trade1Shares`*`Price`)+(`Trade2Shares`*`Price`)+…)/`TotalShares`. <br>Note: Blank if no trades.                                                                                                        |\n",
    "| 40  | `NBBOQuoteCount`        | Q    | Number                        | 0         | Number of Bid and Ask NNBO quotes during bar period.                                                                                                                                                                                             |\n",
    "| 41  | `TradeAtBid`            | Q,T  | Number                        | 0         | Sum of trade volume that occurred at or below the bid (a trade reported/printed late can be below current bid).                                                                                                                                  |\n",
    "| 42  | `TradeAtBidMid`         | Q,T  | Number                        | 0         | Sum of trade volume that occurred between the bid and the mid-point:<br/>(Trade Price > NBBO Bid ) & (Trade Price < NBBO Mid )                                                                                                                       |\n",
    "| 43  | `TradeAtMid`            | Q,T  | Number                        | 0         | Sum of trade volume that occurred at mid.<br/>TradePrice = NBBO MidPoint                                                                                                                                                                             |\n",
    "| 44  | `TradeAtMidAsk`         | Q,T  | Number                        | 0         | Sum of ask volume that occurred between the mid and ask:<br/>(Trade Price > NBBO Mid) & (Trade Price < NBBO Ask)                                                                                                                                     |\n",
    "| 45  | `TradeAtAsk`            | Q,T  | Number                        | 0         | Sum of trade volume that occurred at or above the Ask.                                                                                                                                                                                           |\n",
    "| 46  | `TradeAtCrossOrLocked`  | Q,T  | Number                        | 0         | Sum of trade volume for bar when national best bid/offer is locked or crossed. <br>Locked is Bid = Ask <br>Crossed is Bid > Ask                                                                                                                  |\n",
    "| 47  | `Volume`                | T    | Number                        | 0         | Total number of shares traded                                                                                                                                                                                                                    |\n",
    "| 48  | `TotalTrades`           | T    | Number                        | 0         | Total number of trades                                                                                                                                                                                                                           |\n",
    "| 49  | `FinraVolume`           | T    | Number                        | 0         | Number of shares traded that are reported by FINRA. <br/>Trades reported by FINRA are from broker-dealer internalization, dark pools, Over-The-Counter, etc. <br/>FINRA trades represent volume that is hidden or not public available to trade.         |\n",
    "| 50  | `UptickVolume`          | T    | Integer                       | 0         | Total number of shares traded with upticks during bar.<br/>An uptick = ( trade price > last trade price )                                                                                                                                                                                                                               |\n",
    "| 51  | `DowntickVolume`        | T    | Integer                       | 0         | Total number of shares traded with downticks during bar.<br/>A downtick = ( trade price < last trade price )                                                                                                                                                                                                                            |\n",
    "| 52  | `RepeatUptickVolume`    | T    | Integer                       | 0         | Total number of shares where trade price is the same (repeated) and last price change was up during bar. <br/>Repeat uptick = ( trade price == last trade price ) & (last tick direction == up )                                                                                                                                         |\n",
    "| 53  | `RepeatDowntickVolume`  | T    | Integer                       | 0         | Total number of shares where trade price is the same (repeated) and last price change was down during bar. <br/>Repeat downtick = ( trade price == last trade price ) & (last tick direction == down )                                                                                                                                   |\n",
    "| 54  | `UnknownVolume`         | T    | Integer                       | 0         | When the first trade of the day takes place, the tick direction is “unknown” as there is no previous Trade to compare it to.<br/>This field is the volume of the first trade after 4am and acts as an initiation value for the tick volume directions.<br/>In future this bar will be renamed to `UnkownTickDirectionVolume` .  |"
   ]
  },
  {
   "cell_type": "markdown",
   "metadata": {},
   "source": [
    "### Notes\n",
    "\n",
    "**Empty Fields**\n",
    "\n",
    "An empty field has no value and is “Blank” , for example FirstTradeTime and there are no trades during the bar period. \n",
    "The field `Volume` measuring total number of shares traded in bar will be `0` if there are no Trades (see `No Value` column above for each field).\n",
    "\n",
    "**No Bid/Ask/Trade OHLC**\n",
    "\n",
    "During a bar timeframe there may not be a change in the NBBO or an actual Trade. \n",
    "For example, there can be a bar with OHLC Bid/Ask but no Trade OHLC.\n",
    "\n",
    "**Single Event**\n",
    "\n",
    "For bars with only one trade, one NBBO bid or one NBBO ask then Open/High/Low/Close price,size andtime will be the same.\n",
    "\n",
    "**`AskPriceAtHighBidPrice`, `AskSizeAtHighBidPrice`, `AskPriceAtLowBidPrice`, `AskSizeAtLowBidPrice` Fields** \n",
    "\n",
    "To provide consistent Bid/Ask prices at a point in time while showing the low/high Bid/Ask for the bar, AlgoSeek uses the low/high `Bid` and the corresponding `Ask` at that price.\n",
    "\n",
    "### FAQ\n",
    "\n",
    "**Why are Trade Prices often inside the Bid Price to Ask Price range?**\n",
    "\n",
    "The Low/High Bid/Ask is the low and high NBBO price for the bar range. \n",
    "Very often a Trade may not occur at these prices as the price may only last a few seconds or executions are being crossed at mid-point due to hidden order types that execute at mid-point or as price improvement over current `Bid`/`Ask`.\n",
    "\n",
    "**How to get exchange tradable shares?** \n",
    "\n",
    "To get the exchange tradable volume in a bar subtract `Volume` from `FinraVolume`. \n",
    "- `Volume` is the total number of shares traded. \n",
    "- ``FinraVolume`` is the total number of shares traded that are reported as executions by FINRA. \n",
    "\n",
    "When a trade is done that is off the listed exchanges, it must be reported to FINRA by the brokerage firm or dark pool. Examples include: \n",
    "- internal crosses by broker dealer\n",
    "- over-the-counter block trades, and\n",
    "- dark pool executions."
   ]
  },
  {
   "cell_type": "markdown",
   "metadata": {},
   "source": [
    "## Data prep"
   ]
  },
  {
   "cell_type": "markdown",
   "metadata": {},
   "source": [
    "We use the 'Trade and Quote' dataset - see [documentation](https://www.algoseek.com/old_static/files/documentation/equity_and_etf_etn/AlgoSeek.US.Equity.TradeAndQuotes.OHLC.Bars.1.5.pdf) for details on the definition of the numerous fields."
   ]
  },
  {
   "cell_type": "code",
   "execution_count": 43,
   "metadata": {
    "ExecuteTime": {
     "end_time": "2021-01-20T01:09:04.069208Z",
     "start_time": "2021-01-20T01:09:04.062034Z"
    }
   },
   "outputs": [],
   "source": [
    "tcols = ['openbartime', \n",
    "         'firsttradetime',\n",
    "         'highbidtime', \n",
    "         'highasktime', \n",
    "         'hightradetime',\n",
    "         'lowbidtime', \n",
    "         'lowasktime', \n",
    "         'lowtradetime',\n",
    "         'closebartime', \n",
    "         'lasttradetime']"
   ]
  },
  {
   "cell_type": "code",
   "execution_count": 44,
   "metadata": {
    "ExecuteTime": {
     "end_time": "2021-01-20T01:09:04.078592Z",
     "start_time": "2021-01-20T01:09:04.070175Z"
    }
   },
   "outputs": [],
   "source": [
    "drop_cols = ['unknowntickvolume',\n",
    "             'cancelsize',\n",
    "             'tradeatcrossorlocked']"
   ]
  },
  {
   "cell_type": "code",
   "execution_count": 45,
   "metadata": {
    "ExecuteTime": {
     "end_time": "2021-01-20T01:09:04.087754Z",
     "start_time": "2021-01-20T01:09:04.083055Z"
    }
   },
   "outputs": [],
   "source": [
    "keep = ['firsttradeprice', \n",
    "        'hightradeprice', \n",
    "        'lowtradeprice', \n",
    "        'lasttradeprice', \n",
    "        'minspread', \n",
    "        'maxspread',\n",
    "        'volumeweightprice', \n",
    "        'nbboquotecount', \n",
    "        'tradeatbid', \n",
    "        'tradeatbidmid', \n",
    "        'tradeatmid', \n",
    "        'tradeatmidask', \n",
    "        'tradeatask', \n",
    "        'volume', \n",
    "        'totaltrades', \n",
    "        'finravolume', \n",
    "        'finravolumeweightprice', \n",
    "        'uptickvolume', \n",
    "        'downtickvolume', \n",
    "        'repeatuptickvolume', \n",
    "        'repeatdowntickvolume', \n",
    "        'tradetomidvolweight', \n",
    "        'tradetomidvolweightrelative']"
   ]
  },
  {
   "cell_type": "markdown",
   "metadata": {},
   "source": [
    "We will shorten most of the field names to reduce typing:"
   ]
  },
  {
   "cell_type": "code",
   "execution_count": 46,
   "metadata": {
    "ExecuteTime": {
     "end_time": "2021-01-20T01:09:04.096735Z",
     "start_time": "2021-01-20T01:09:04.090319Z"
    }
   },
   "outputs": [],
   "source": [
    "columns = {'volumeweightprice'          : 'price',\n",
    "           'finravolume'                : 'fvolume',\n",
    "           'finravolumeweightprice'     : 'fprice',\n",
    "           'uptickvolume'               : 'up',\n",
    "           'downtickvolume'             : 'down',\n",
    "           'repeatuptickvolume'         : 'rup',\n",
    "           'repeatdowntickvolume'       : 'rdown',\n",
    "           'firsttradeprice'            : 'first',\n",
    "           'hightradeprice'             : 'high',\n",
    "           'lowtradeprice'              : 'low',\n",
    "           'lasttradeprice'             : 'last',\n",
    "           'nbboquotecount'             : 'nbbo',\n",
    "           'totaltrades'                : 'ntrades',\n",
    "           'openbidprice'               : 'obprice',\n",
    "           'openbidsize'                : 'obsize',\n",
    "           'openaskprice'               : 'oaprice',\n",
    "           'openasksize'                : 'oasize',\n",
    "           'highbidprice'               : 'hbprice',\n",
    "           'highbidsize'                : 'hbsize',\n",
    "           'highaskprice'               : 'haprice',\n",
    "           'highasksize'                : 'hasize',\n",
    "           'lowbidprice'                : 'lbprice',\n",
    "           'lowbidsize'                 : 'lbsize',\n",
    "           'lowaskprice'                : 'laprice',\n",
    "           'lowasksize'                 : 'lasize',\n",
    "           'closebidprice'              : 'cbprice',\n",
    "           'closebidsize'               : 'cbsize',\n",
    "           'closeaskprice'              : 'caprice',\n",
    "           'closeasksize'               : 'casize',\n",
    "           'firsttradesize'             : 'firstsize',\n",
    "           'hightradesize'              : 'highsize',\n",
    "           'lowtradesize'               : 'lowsize',\n",
    "           'lasttradesize'              : 'lastsize',\n",
    "           'tradetomidvolweight'        : 'volweight',\n",
    "           'tradetomidvolweightrelative': 'volweightrel'}"
   ]
  },
  {
   "cell_type": "markdown",
   "metadata": {},
   "source": [
    "The Algoseek minute-bar data comes in compressed csv files that contain the data for one symbol and day, organized in three directories for each year (2015-17). The function `extract_and_combine_data` reads the ~80K source files and combines them into a single `hdf5` file for faster access. \n",
    "\n",
    ">The data is fairly large (>8GB), and if you run into memory constraints, please modify the code to process the data in smaller chunks. One options is to iterate over the three directories containing data for a single year only, and storing each year separately."
   ]
  },
  {
   "cell_type": "code",
   "execution_count": 47,
   "metadata": {
    "ExecuteTime": {
     "end_time": "2021-01-20T01:09:04.108378Z",
     "start_time": "2021-01-20T01:09:04.098299Z"
    }
   },
   "outputs": [
    {
     "name": "stdout",
     "output_type": "stream",
     "text": [
      "..\\data\\nasdaq100\n"
     ]
    }
   ],
   "source": [
    "nasdaq_path = Path('../data/nasdaq100')\n",
    "print(nasdaq_path)"
   ]
  },
  {
   "cell_type": "code",
   "execution_count": 55,
   "metadata": {
    "ExecuteTime": {
     "end_time": "2021-01-20T01:09:04.117862Z",
     "start_time": "2021-01-20T01:09:04.109961Z"
    }
   },
   "outputs": [],
   "source": [
    "def extract_and_combine_data():\n",
    "    path = nasdaq_path / '1min_taq'\n",
    "\n",
    "    data = []\n",
    "    # ~80K files to process\n",
    "    for f in tqdm(list(path.glob('*/**/*.csv.gz'))):\n",
    "        data.append(pd.read_csv(f, parse_dates=[['Date', 'TimeBarStart']])\n",
    "                    .rename(columns=str.lower)\n",
    "                    .drop(tcols + drop_cols, axis=1)\n",
    "                    .rename(columns=columns)\n",
    "                    .set_index('date_timebarstart')\n",
    "                    .sort_index()\n",
    "                    .between_time('9:30', '16:00')\n",
    "                    .set_index('ticker', append=True)\n",
    "                    .swaplevel()\n",
    "                    .rename(columns=lambda x: x.replace('tradeat', 'at')))\n",
    "        print(f)\n",
    "    data = pd.concat(data).apply(pd.to_numeric, downcast='integer')\n",
    "    data.index.rename(['ticker', 'date_time'])\n",
    "    print(data.info(show_counts=True))\n",
    "    data.to_hdf(nasdaq_path / 'algoseek.h5', 'min_taq')"
   ]
  },
  {
   "cell_type": "code",
   "execution_count": 56,
   "metadata": {
    "ExecuteTime": {
     "end_time": "2021-01-20T01:09:04.133889Z",
     "start_time": "2021-01-20T01:09:04.119663Z"
    }
   },
   "outputs": [
    {
     "name": "stderr",
     "output_type": "stream",
     "text": [
      "0it [00:00, ?it/s]\n"
     ]
    },
    {
     "ename": "ValueError",
     "evalue": "No objects to concatenate",
     "output_type": "error",
     "traceback": [
      "\u001b[1;31m---------------------------------------------------------------------------\u001b[0m",
      "\u001b[1;31mValueError\u001b[0m                                Traceback (most recent call last)",
      "\u001b[1;32m~\\AppData\\Local\\Temp/ipykernel_21196/3665736859.py\u001b[0m in \u001b[0;36m<module>\u001b[1;34m\u001b[0m\n\u001b[0;32m      1\u001b[0m \u001b[1;31m#print(extract_and_combine_data())\u001b[0m\u001b[1;33m\u001b[0m\u001b[1;33m\u001b[0m\u001b[0m\n\u001b[1;32m----> 2\u001b[1;33m \u001b[0mextract_and_combine_data\u001b[0m\u001b[1;33m(\u001b[0m\u001b[1;33m)\u001b[0m\u001b[1;33m\u001b[0m\u001b[1;33m\u001b[0m\u001b[0m\n\u001b[0m",
      "\u001b[1;32m~\\AppData\\Local\\Temp/ipykernel_21196/3696843494.py\u001b[0m in \u001b[0;36mextract_and_combine_data\u001b[1;34m()\u001b[0m\n\u001b[0;32m     16\u001b[0m                     .rename(columns=lambda x: x.replace('tradeat', 'at')))\n\u001b[0;32m     17\u001b[0m         \u001b[0mprint\u001b[0m\u001b[1;33m(\u001b[0m\u001b[0mf\u001b[0m\u001b[1;33m)\u001b[0m\u001b[1;33m\u001b[0m\u001b[1;33m\u001b[0m\u001b[0m\n\u001b[1;32m---> 18\u001b[1;33m     \u001b[0mdata\u001b[0m \u001b[1;33m=\u001b[0m \u001b[0mpd\u001b[0m\u001b[1;33m.\u001b[0m\u001b[0mconcat\u001b[0m\u001b[1;33m(\u001b[0m\u001b[0mdata\u001b[0m\u001b[1;33m)\u001b[0m\u001b[1;33m.\u001b[0m\u001b[0mapply\u001b[0m\u001b[1;33m(\u001b[0m\u001b[0mpd\u001b[0m\u001b[1;33m.\u001b[0m\u001b[0mto_numeric\u001b[0m\u001b[1;33m,\u001b[0m \u001b[0mdowncast\u001b[0m\u001b[1;33m=\u001b[0m\u001b[1;34m'integer'\u001b[0m\u001b[1;33m)\u001b[0m\u001b[1;33m\u001b[0m\u001b[1;33m\u001b[0m\u001b[0m\n\u001b[0m\u001b[0;32m     19\u001b[0m     \u001b[0mdata\u001b[0m\u001b[1;33m.\u001b[0m\u001b[0mindex\u001b[0m\u001b[1;33m.\u001b[0m\u001b[0mrename\u001b[0m\u001b[1;33m(\u001b[0m\u001b[1;33m[\u001b[0m\u001b[1;34m'ticker'\u001b[0m\u001b[1;33m,\u001b[0m \u001b[1;34m'date_time'\u001b[0m\u001b[1;33m]\u001b[0m\u001b[1;33m)\u001b[0m\u001b[1;33m\u001b[0m\u001b[1;33m\u001b[0m\u001b[0m\n\u001b[0;32m     20\u001b[0m     \u001b[0mprint\u001b[0m\u001b[1;33m(\u001b[0m\u001b[0mdata\u001b[0m\u001b[1;33m.\u001b[0m\u001b[0minfo\u001b[0m\u001b[1;33m(\u001b[0m\u001b[0mshow_counts\u001b[0m\u001b[1;33m=\u001b[0m\u001b[1;32mTrue\u001b[0m\u001b[1;33m)\u001b[0m\u001b[1;33m)\u001b[0m\u001b[1;33m\u001b[0m\u001b[1;33m\u001b[0m\u001b[0m\n",
      "\u001b[1;32m~\\AppData\\Local\\Packages\\PythonSoftwareFoundation.Python.3.9_qbz5n2kfra8p0\\LocalCache\\local-packages\\Python39\\site-packages\\pandas\\core\\reshape\\concat.py\u001b[0m in \u001b[0;36mconcat\u001b[1;34m(objs, axis, join, ignore_index, keys, levels, names, verify_integrity, sort, copy)\u001b[0m\n\u001b[0;32m    283\u001b[0m     \u001b[0mValueError\u001b[0m\u001b[1;33m:\u001b[0m \u001b[0mIndexes\u001b[0m \u001b[0mhave\u001b[0m \u001b[0moverlapping\u001b[0m \u001b[0mvalues\u001b[0m\u001b[1;33m:\u001b[0m \u001b[1;33m[\u001b[0m\u001b[1;34m'a'\u001b[0m\u001b[1;33m]\u001b[0m\u001b[1;33m\u001b[0m\u001b[1;33m\u001b[0m\u001b[0m\n\u001b[0;32m    284\u001b[0m     \"\"\"\n\u001b[1;32m--> 285\u001b[1;33m     op = _Concatenator(\n\u001b[0m\u001b[0;32m    286\u001b[0m         \u001b[0mobjs\u001b[0m\u001b[1;33m,\u001b[0m\u001b[1;33m\u001b[0m\u001b[1;33m\u001b[0m\u001b[0m\n\u001b[0;32m    287\u001b[0m         \u001b[0maxis\u001b[0m\u001b[1;33m=\u001b[0m\u001b[0maxis\u001b[0m\u001b[1;33m,\u001b[0m\u001b[1;33m\u001b[0m\u001b[1;33m\u001b[0m\u001b[0m\n",
      "\u001b[1;32m~\\AppData\\Local\\Packages\\PythonSoftwareFoundation.Python.3.9_qbz5n2kfra8p0\\LocalCache\\local-packages\\Python39\\site-packages\\pandas\\core\\reshape\\concat.py\u001b[0m in \u001b[0;36m__init__\u001b[1;34m(self, objs, axis, join, keys, levels, names, ignore_index, verify_integrity, copy, sort)\u001b[0m\n\u001b[0;32m    340\u001b[0m \u001b[1;33m\u001b[0m\u001b[0m\n\u001b[0;32m    341\u001b[0m         \u001b[1;32mif\u001b[0m \u001b[0mlen\u001b[0m\u001b[1;33m(\u001b[0m\u001b[0mobjs\u001b[0m\u001b[1;33m)\u001b[0m \u001b[1;33m==\u001b[0m \u001b[1;36m0\u001b[0m\u001b[1;33m:\u001b[0m\u001b[1;33m\u001b[0m\u001b[1;33m\u001b[0m\u001b[0m\n\u001b[1;32m--> 342\u001b[1;33m             \u001b[1;32mraise\u001b[0m \u001b[0mValueError\u001b[0m\u001b[1;33m(\u001b[0m\u001b[1;34m\"No objects to concatenate\"\u001b[0m\u001b[1;33m)\u001b[0m\u001b[1;33m\u001b[0m\u001b[1;33m\u001b[0m\u001b[0m\n\u001b[0m\u001b[0;32m    343\u001b[0m \u001b[1;33m\u001b[0m\u001b[0m\n\u001b[0;32m    344\u001b[0m         \u001b[1;32mif\u001b[0m \u001b[0mkeys\u001b[0m \u001b[1;32mis\u001b[0m \u001b[1;32mNone\u001b[0m\u001b[1;33m:\u001b[0m\u001b[1;33m\u001b[0m\u001b[1;33m\u001b[0m\u001b[0m\n",
      "\u001b[1;31mValueError\u001b[0m: No objects to concatenate"
     ]
    }
   ],
   "source": [
    "#print(extract_and_combine_data())\n",
    "extract_and_combine_data()"
   ]
  },
  {
   "cell_type": "markdown",
   "metadata": {},
   "source": [
    "## Loading Algoseek Data"
   ]
  },
  {
   "cell_type": "code",
   "execution_count": 50,
   "metadata": {
    "ExecuteTime": {
     "end_time": "2021-01-20T01:09:04.149080Z",
     "start_time": "2021-01-20T01:09:04.135021Z"
    }
   },
   "outputs": [],
   "source": [
    "ohlcv_cols = ['first', 'high', 'low', 'last', 'price', 'volume']"
   ]
  },
  {
   "cell_type": "code",
   "execution_count": 51,
   "metadata": {
    "ExecuteTime": {
     "end_time": "2021-01-20T01:09:04.166497Z",
     "start_time": "2021-01-20T01:09:04.150181Z"
    }
   },
   "outputs": [],
   "source": [
    "data_cols = ohlcv_cols + ['up', 'down', 'rup', 'rdown', 'atask', 'atbid']"
   ]
  },
  {
   "cell_type": "code",
   "execution_count": 52,
   "metadata": {
    "ExecuteTime": {
     "end_time": "2021-01-20T01:09:29.663196Z",
     "start_time": "2021-01-20T01:09:04.167601Z"
    }
   },
   "outputs": [
    {
     "ename": "NameError",
     "evalue": "name 'as_path' is not defined",
     "output_type": "error",
     "traceback": [
      "\u001b[1;31m---------------------------------------------------------------------------\u001b[0m",
      "\u001b[1;31mNameError\u001b[0m                                 Traceback (most recent call last)",
      "\u001b[1;32m~\\AppData\\Local\\Temp/ipykernel_21196/2450718279.py\u001b[0m in \u001b[0;36m<module>\u001b[1;34m\u001b[0m\n\u001b[1;32m----> 1\u001b[1;33m \u001b[1;32mwith\u001b[0m \u001b[0mpd\u001b[0m\u001b[1;33m.\u001b[0m\u001b[0mHDFStore\u001b[0m\u001b[1;33m(\u001b[0m\u001b[0mas_path\u001b[0m \u001b[1;33m/\u001b[0m \u001b[1;34m'algoseek.h5'\u001b[0m\u001b[1;33m)\u001b[0m \u001b[1;32mas\u001b[0m \u001b[0mstore\u001b[0m\u001b[1;33m:\u001b[0m\u001b[1;33m\u001b[0m\u001b[1;33m\u001b[0m\u001b[0m\n\u001b[0m\u001b[0;32m      2\u001b[0m     \u001b[0mdf\u001b[0m \u001b[1;33m=\u001b[0m \u001b[0mstore\u001b[0m\u001b[1;33m[\u001b[0m\u001b[1;34m'min_taq'\u001b[0m\u001b[1;33m]\u001b[0m\u001b[1;33m.\u001b[0m\u001b[0mloc\u001b[0m\u001b[1;33m[\u001b[0m\u001b[1;33m:\u001b[0m\u001b[1;33m,\u001b[0m \u001b[0mdata_cols\u001b[0m\u001b[1;33m]\u001b[0m\u001b[1;33m.\u001b[0m\u001b[0msort_index\u001b[0m\u001b[1;33m(\u001b[0m\u001b[1;33m)\u001b[0m\u001b[1;33m\u001b[0m\u001b[1;33m\u001b[0m\u001b[0m\n\u001b[0;32m      3\u001b[0m \u001b[1;33m\u001b[0m\u001b[0m\n\u001b[0;32m      4\u001b[0m \u001b[1;31m#df = pd.read_csv('Hennes_Mauritz_1_min_data.csv')\u001b[0m\u001b[1;33m\u001b[0m\u001b[1;33m\u001b[0m\u001b[0m\n\u001b[0;32m      5\u001b[0m \u001b[1;31m#df = df.set_index('DATETIME')\u001b[0m\u001b[1;33m\u001b[0m\u001b[1;33m\u001b[0m\u001b[0m\n",
      "\u001b[1;31mNameError\u001b[0m: name 'as_path' is not defined"
     ]
    }
   ],
   "source": [
    "with pd.HDFStore(as_path / 'algoseek.h5') as store:\n",
    "    df = store['min_taq'].loc[:, data_cols].sort_index()\n",
    "\n",
    "#df = pd.read_csv('Hennes_Mauritz_1_min_data.csv')  \n",
    "#df = df.set_index('DATETIME')\n",
    "#df = df.rename(columns={\"RATE\": \"close\"})\n",
    "print(df)"
   ]
  },
  {
   "cell_type": "code",
   "execution_count": null,
   "metadata": {
    "ExecuteTime": {
     "end_time": "2021-01-20T01:09:39.537432Z",
     "start_time": "2021-01-20T01:09:29.664613Z"
    }
   },
   "outputs": [],
   "source": [
    "df['date'] = pd.to_datetime(df.index.get_level_values('DATETIME').DATETIME)"
   ]
  },
  {
   "cell_type": "code",
   "execution_count": null,
   "metadata": {},
   "outputs": [],
   "source": [
    "df = pd.read_csv('Hennes_Mauritz_1_min_data.csv')  \n",
    "df = df.set_index('DATETIME')\n",
    "df = df.rename(columns={\"RATE\": \"close\"})\n",
    "print(df)"
   ]
  },
  {
   "cell_type": "markdown",
   "metadata": {},
   "source": [
    "We persist the reduced dataset:"
   ]
  },
  {
   "cell_type": "code",
   "execution_count": null,
   "metadata": {
    "ExecuteTime": {
     "end_time": "2021-01-20T01:09:41.400003Z",
     "start_time": "2021-01-20T01:09:39.561620Z"
    }
   },
   "outputs": [],
   "source": [
    "#df.to_hdf('data/algoseek.h5', 'data')\n",
    "df.to_hdf('data.h5', key='df', mode='w') \n",
    "print(pd.read_hdf('data.h5', 'df'))"
   ]
  },
  {
   "cell_type": "code",
   "execution_count": null,
   "metadata": {
    "ExecuteTime": {
     "end_time": "2021-01-20T01:09:47.759859Z",
     "start_time": "2021-01-20T01:09:41.401432Z"
    }
   },
   "outputs": [],
   "source": [
    "df = pd.read_hdf('data/algoseek.h5', 'data')"
   ]
  },
  {
   "cell_type": "code",
   "execution_count": null,
   "metadata": {
    "ExecuteTime": {
     "end_time": "2021-01-20T01:09:48.545400Z",
     "start_time": "2021-01-20T01:09:47.760872Z"
    }
   },
   "outputs": [],
   "source": [
    "df.info(null_counts=True)"
   ]
  },
  {
   "cell_type": "markdown",
   "metadata": {},
   "source": [
    "## Feature Engineering"
   ]
  },
  {
   "cell_type": "markdown",
   "metadata": {},
   "source": [
    "All of the features above were normalized in a standard fashion\n",
    "by subtracting their means, dividing by their standard deviations, and time-averaging over a recent\n",
    "interval. In order to obtain a finite state space, features were discretized into bins in multiples of\n",
    "standard deviation units"
   ]
  },
  {
   "cell_type": "markdown",
   "metadata": {},
   "source": [
    "We will compute feature per ticker or ticker and date:"
   ]
  },
  {
   "cell_type": "code",
   "execution_count": null,
   "metadata": {
    "ExecuteTime": {
     "end_time": "2021-01-20T01:09:58.642570Z",
     "start_time": "2021-01-20T01:09:48.546430Z"
    }
   },
   "outputs": [],
   "source": [
    "by_ticker = df.sort_index().groupby('ticker', group_keys=False)\n",
    "by_ticker_date = df.sort_index().groupby(['ticker', 'date'])"
   ]
  },
  {
   "cell_type": "markdown",
   "metadata": {},
   "source": [
    "Create empty `DataFrame` with original ticker/timestamp index to hold our features:"
   ]
  },
  {
   "cell_type": "code",
   "execution_count": null,
   "metadata": {
    "ExecuteTime": {
     "end_time": "2021-01-20T01:09:58.645884Z",
     "start_time": "2021-01-20T01:09:58.643530Z"
    }
   },
   "outputs": [],
   "source": [
    "data = pd.DataFrame(index=df.index)"
   ]
  },
  {
   "cell_type": "code",
   "execution_count": null,
   "metadata": {
    "ExecuteTime": {
     "end_time": "2021-01-20T01:09:58.930687Z",
     "start_time": "2021-01-20T01:09:58.647120Z"
    }
   },
   "outputs": [],
   "source": [
    "data['date'] = pd.factorize(df['date'], sort=True)[0]\n"
   ]
  },
  {
   "cell_type": "code",
   "execution_count": null,
   "metadata": {
    "ExecuteTime": {
     "end_time": "2021-01-20T01:11:02.174348Z",
     "start_time": "2021-01-20T01:09:58.931900Z"
    }
   },
   "outputs": [],
   "source": [
    "data['minute'] = pd.to_timedelta(data.index.get_level_values('date_time').time.astype(str))\n",
    "data.minute = (data.minute.dt.seconds.sub(data.minute.dt.seconds.min()).div(60).astype(int))"
   ]
  },
  {
   "cell_type": "markdown",
   "metadata": {},
   "source": [
    "### Lagged Returns"
   ]
  },
  {
   "cell_type": "markdown",
   "metadata": {},
   "source": [
    "We create lagged returns with respect to first and last price per bar for each the past 10 minutes:"
   ]
  },
  {
   "cell_type": "code",
   "execution_count": null,
   "metadata": {
    "ExecuteTime": {
     "end_time": "2021-01-20T01:11:02.304471Z",
     "start_time": "2021-01-20T01:11:02.175299Z"
    }
   },
   "outputs": [],
   "source": [
    "\n",
    "data[f'ret1min'] = df['close'].div(df['close']).sub(1)"
   ]
  },
  {
   "cell_type": "markdown",
   "metadata": {},
   "source": [
    "1-min returns have rather heavy tails:"
   ]
  },
  {
   "cell_type": "code",
   "execution_count": null,
   "metadata": {
    "ExecuteTime": {
     "end_time": "2021-01-20T01:11:03.715747Z",
     "start_time": "2021-01-20T01:11:02.305522Z"
    }
   },
   "outputs": [],
   "source": [
    "sns.kdeplot(data.ret1min.sample(n=100000));"
   ]
  },
  {
   "cell_type": "code",
   "execution_count": null,
   "metadata": {
    "ExecuteTime": {
     "end_time": "2021-01-20T01:11:05.023016Z",
     "start_time": "2021-01-20T01:11:03.716935Z"
    }
   },
   "outputs": [],
   "source": [
    "data.ret1min.describe(percentiles=np.arange(.1, 1, .1)).iloc[1:].apply(lambda x: f'{x:.3%}')"
   ]
  },
  {
   "cell_type": "code",
   "execution_count": null,
   "metadata": {
    "ExecuteTime": {
     "end_time": "2021-01-20T01:11:05.509529Z",
     "start_time": "2021-01-20T01:11:05.024093Z"
    }
   },
   "outputs": [],
   "source": [
    "print(f'Skew: {data.ret1min.skew():.2f} | Kurtosis: {data.ret1min.kurtosis():.2f}')"
   ]
  },
  {
   "cell_type": "markdown",
   "metadata": {},
   "source": [
    "Intra-bar price moves with the highest returns:"
   ]
  },
  {
   "cell_type": "code",
   "execution_count": null,
   "metadata": {
    "ExecuteTime": {
     "end_time": "2021-01-20T01:11:09.688204Z",
     "start_time": "2021-01-20T01:11:05.510441Z"
    }
   },
   "outputs": [],
   "source": [
    "data.join(df[['first', 'last']]).nlargest(10, columns=['ret1min'])"
   ]
  },
  {
   "cell_type": "markdown",
   "metadata": {},
   "source": [
    "We compute similarly for the remaining periods:"
   ]
  },
  {
   "cell_type": "code",
   "execution_count": null,
   "metadata": {
    "ExecuteTime": {
     "end_time": "2021-01-20T01:11:29.888488Z",
     "start_time": "2021-01-20T01:11:09.689224Z"
    }
   },
   "outputs": [],
   "source": [
    "for t in tqdm(range(2, 11)):\n",
    "    data[f'ret{t}min'] = df['last'].div(by_ticker_date['first'].shift(t-1)).sub(1)"
   ]
  },
  {
   "cell_type": "markdown",
   "metadata": {},
   "source": [
    "### Forward Returns"
   ]
  },
  {
   "cell_type": "markdown",
   "metadata": {},
   "source": [
    "We obtain our 1-min forward return target by shifting the one-period return by one minute into the past (which implies the assumption that we always enter and exit a position at those prices, also ignoring trading cost and potential market impact):"
   ]
  },
  {
   "cell_type": "code",
   "execution_count": null,
   "metadata": {
    "ExecuteTime": {
     "end_time": "2021-01-20T01:11:38.252695Z",
     "start_time": "2021-01-20T01:11:29.889828Z"
    }
   },
   "outputs": [],
   "source": [
    "data['fwd1min'] = (data\n",
    "                   .sort_index()\n",
    "                   .groupby(['ticker', 'date'])\n",
    "                   .ret1min\n",
    "                   .shift(-1))"
   ]
  },
  {
   "cell_type": "code",
   "execution_count": null,
   "metadata": {
    "ExecuteTime": {
     "end_time": "2021-01-20T01:11:40.237588Z",
     "start_time": "2021-01-20T01:11:38.253634Z"
    }
   },
   "outputs": [],
   "source": [
    "data = data.dropna(subset=['fwd1min'])"
   ]
  },
  {
   "cell_type": "code",
   "execution_count": null,
   "metadata": {
    "ExecuteTime": {
     "end_time": "2021-01-20T01:11:41.059317Z",
     "start_time": "2021-01-20T01:11:40.238638Z"
    }
   },
   "outputs": [],
   "source": [
    "data.info(null_counts=True)"
   ]
  },
  {
   "cell_type": "markdown",
   "metadata": {},
   "source": [
    "### Normalized up/downtick volume"
   ]
  },
  {
   "cell_type": "code",
   "execution_count": null,
   "metadata": {
    "ExecuteTime": {
     "end_time": "2021-01-20T01:14:31.900039Z",
     "start_time": "2021-01-20T01:11:41.060317Z"
    }
   },
   "outputs": [],
   "source": [
    "for f in ['up', 'down', 'rup', 'rdown']:\n",
    "    data[f] = df.loc[:, f].div(df.volume).replace(np.inf, np.nan)"
   ]
  },
  {
   "cell_type": "code",
   "execution_count": null,
   "metadata": {
    "ExecuteTime": {
     "end_time": "2021-01-20T01:14:40.991354Z",
     "start_time": "2021-01-20T01:14:31.900947Z"
    }
   },
   "outputs": [],
   "source": [
    "data.loc[:, ['rup', 'up', 'rdown', 'down']].describe(deciles)"
   ]
  },
  {
   "cell_type": "markdown",
   "metadata": {},
   "source": [
    "### Balance of Power"
   ]
  },
  {
   "cell_type": "code",
   "execution_count": null,
   "metadata": {
    "ExecuteTime": {
     "end_time": "2021-01-20T01:15:08.659752Z",
     "start_time": "2021-01-20T01:14:40.992286Z"
    }
   },
   "outputs": [],
   "source": [
    "data['BOP'] = (by_ticker.apply(lambda x: talib.BOP(x['first'],\n",
    "                                                   x.high,\n",
    "                                                   x.low,\n",
    "                                                   x['last'])))"
   ]
  },
  {
   "cell_type": "markdown",
   "metadata": {},
   "source": [
    "###  Commodity Channel Index"
   ]
  },
  {
   "cell_type": "code",
   "execution_count": null,
   "metadata": {
    "ExecuteTime": {
     "end_time": "2021-01-20T01:15:40.860709Z",
     "start_time": "2021-01-20T01:15:08.661044Z"
    }
   },
   "outputs": [],
   "source": [
    "data['CCI'] = (by_ticker.apply(lambda x: talib.CCI(x.high,\n",
    "                                          x.low,\n",
    "                                          x['last'],\n",
    "                                          timeperiod=14)))"
   ]
  },
  {
   "cell_type": "markdown",
   "metadata": {},
   "source": [
    "### Money Flow Index"
   ]
  },
  {
   "cell_type": "code",
   "execution_count": null,
   "metadata": {
    "ExecuteTime": {
     "end_time": "2021-01-20T01:16:13.276922Z",
     "start_time": "2021-01-20T01:15:40.861641Z"
    }
   },
   "outputs": [],
   "source": [
    "data['MFI'] = (by_ticker.apply(lambda x: talib.MFI(x.high,\n",
    "                                          x.low,\n",
    "                                          x['last'],\n",
    "                                          x.volume,\n",
    "                                          timeperiod=14)))"
   ]
  },
  {
   "cell_type": "code",
   "execution_count": null,
   "metadata": {
    "ExecuteTime": {
     "end_time": "2021-01-20T01:16:20.871800Z",
     "start_time": "2021-01-20T01:16:13.278140Z"
    }
   },
   "outputs": [],
   "source": [
    "data[['BOP', 'CCI', 'MFI']].describe(deciles)"
   ]
  },
  {
   "cell_type": "markdown",
   "metadata": {},
   "source": [
    "### Stochastic RSI"
   ]
  },
  {
   "cell_type": "code",
   "execution_count": null,
   "metadata": {
    "ExecuteTime": {
     "end_time": "2021-01-20T01:16:53.792314Z",
     "start_time": "2021-01-20T01:16:20.872801Z"
    }
   },
   "outputs": [],
   "source": [
    "data['STOCHRSI'] = (by_ticker.apply(lambda x: talib.STOCHRSI(x['last'].ffill(),\n",
    "                                                             timeperiod=14,\n",
    "                                                             fastk_period=14,\n",
    "                                                             fastd_period=3,\n",
    "                                                             fastd_matype=0)[0]))"
   ]
  },
  {
   "cell_type": "markdown",
   "metadata": {},
   "source": [
    "### Stochastic Oscillator"
   ]
  },
  {
   "cell_type": "code",
   "execution_count": null,
   "metadata": {
    "ExecuteTime": {
     "end_time": "2021-01-20T01:16:53.796959Z",
     "start_time": "2021-01-20T01:16:53.793216Z"
    }
   },
   "outputs": [],
   "source": [
    "def compute_stoch(x, fastk_period=14, slowk_period=3, slowk_matype=0, slowd_period=3, slowd_matype=0):\n",
    "    slowk, slowd = talib.STOCH(x.high.ffill(), x.low.ffill(), x['last'].ffill(), \n",
    "                               fastk_period=fastk_period,\n",
    "                               slowk_period=slowk_period,\n",
    "                               slowk_matype=slowk_matype,\n",
    "                               slowd_period=slowd_period,\n",
    "                               slowd_matype=slowd_matype)\n",
    "    return pd.DataFrame({'slowd': slowd, \n",
    "                         'slowk': slowk}, \n",
    "                        index=x.index)"
   ]
  },
  {
   "cell_type": "code",
   "execution_count": null,
   "metadata": {
    "ExecuteTime": {
     "end_time": "2021-01-20T01:18:47.548905Z",
     "start_time": "2021-01-20T01:16:53.798363Z"
    }
   },
   "outputs": [],
   "source": [
    "data = data.join(by_ticker.apply(compute_stoch))"
   ]
  },
  {
   "cell_type": "markdown",
   "metadata": {},
   "source": [
    "### Average True Range"
   ]
  },
  {
   "cell_type": "code",
   "execution_count": null,
   "metadata": {
    "ExecuteTime": {
     "end_time": "2021-01-20T01:19:19.579945Z",
     "start_time": "2021-01-20T01:18:47.549900Z"
    }
   },
   "outputs": [],
   "source": [
    "data['NATR'] = by_ticker.apply(lambda x: talib.NATR(x.high.ffill(), \n",
    "                                                    x.low.ffill(), \n",
    "                                                    x['last'].ffill()))"
   ]
  },
  {
   "cell_type": "markdown",
   "metadata": {},
   "source": [
    "### Transaction Volume by price point"
   ]
  },
  {
   "cell_type": "code",
   "execution_count": null,
   "metadata": {
    "ExecuteTime": {
     "end_time": "2021-01-20T01:19:38.071315Z",
     "start_time": "2021-01-20T01:19:19.580885Z"
    }
   },
   "outputs": [],
   "source": [
    "data['trades_bid_ask'] = df.atask.sub(df.atbid).div(df.volume).replace((np.inf, -np.inf), np.nan)"
   ]
  },
  {
   "cell_type": "code",
   "execution_count": null,
   "metadata": {
    "ExecuteTime": {
     "end_time": "2021-01-20T01:19:38.123711Z",
     "start_time": "2021-01-20T01:19:38.072197Z"
    }
   },
   "outputs": [],
   "source": [
    "del df"
   ]
  },
  {
   "cell_type": "code",
   "execution_count": null,
   "metadata": {
    "ExecuteTime": {
     "end_time": "2021-01-20T01:19:39.129372Z",
     "start_time": "2021-01-20T01:19:38.124661Z"
    }
   },
   "outputs": [],
   "source": [
    "data.info(show_counts=True)"
   ]
  },
  {
   "cell_type": "markdown",
   "metadata": {},
   "source": [
    "### Evaluate features"
   ]
  },
  {
   "cell_type": "code",
   "execution_count": null,
   "metadata": {
    "ExecuteTime": {
     "end_time": "2021-01-20T01:33:21.260575Z",
     "start_time": "2021-01-20T01:33:21.254077Z"
    }
   },
   "outputs": [],
   "source": [
    "features = ['ret1min', 'ret2min', 'ret3min', 'ret4min', 'ret5min', \n",
    "            'ret6min', 'ret7min', 'ret8min', 'ret9min', 'ret10min',\n",
    "            'rup', 'up', 'down', 'rdown', 'BOP', 'CCI', 'MFI', 'STOCHRSI', \n",
    "            'slowk', 'slowd', 'trades_bid_ask']"
   ]
  },
  {
   "cell_type": "code",
   "execution_count": null,
   "metadata": {},
   "outputs": [],
   "source": [
    "sample = data.sample(n=100000)"
   ]
  },
  {
   "cell_type": "code",
   "execution_count": null,
   "metadata": {
    "ExecuteTime": {
     "end_time": "2021-01-20T01:36:43.324658Z",
     "start_time": "2021-01-20T01:36:33.616959Z"
    }
   },
   "outputs": [],
   "source": [
    "fig, axes = plt.subplots(nrows=3, ncols=7, figsize=(30, 12))\n",
    "axes = axes.flatten()\n",
    "\n",
    "for i, feature in enumerate(features):\n",
    "    sns.distplot(sample[feature], ax=axes[i])\n",
    "    axes[i].set_title(feature.upper())\n",
    "    \n",
    "sns.despine()\n",
    "fig.tight_layout()"
   ]
  },
  {
   "cell_type": "code",
   "execution_count": null,
   "metadata": {
    "ExecuteTime": {
     "end_time": "2021-01-20T01:19:47.292886Z",
     "start_time": "2021-01-20T01:19:39.133687Z"
    }
   },
   "outputs": [],
   "source": [
    "sns.pairplot(sample, y_vars=['fwd1min'], x_vars=features);"
   ]
  },
  {
   "cell_type": "code",
   "execution_count": null,
   "metadata": {
    "ExecuteTime": {
     "end_time": "2021-01-20T01:32:09.862694Z",
     "start_time": "2021-01-20T01:32:07.541788Z"
    }
   },
   "outputs": [],
   "source": [
    "corr = sample.loc[:, features].corr()\n",
    "sns.clustermap(corr, cmap = sns.diverging_palette(20, 230, as_cmap=True),\n",
    "              center=0, vmin=-.25);"
   ]
  },
  {
   "cell_type": "code",
   "execution_count": null,
   "metadata": {
    "ExecuteTime": {
     "end_time": "2021-01-20T01:24:31.542206Z",
     "start_time": "2021-01-20T01:19:47.293886Z"
    }
   },
   "outputs": [],
   "source": [
    "ic = {}\n",
    "for feature in tqdm(features):\n",
    "    df = data[['fwd1min', feature]].dropna()\n",
    "    by_day = df.groupby(df.index.get_level_values('date_time').date) # calc per min is very time-consuming\n",
    "    ic[feature] = by_day.apply(lambda x: spearmanr(x.fwd1min, x[feature])[0]).mean()\n",
    "ic = pd.Series(ic)"
   ]
  },
  {
   "cell_type": "code",
   "execution_count": null,
   "metadata": {
    "ExecuteTime": {
     "end_time": "2021-01-20T01:24:31.548273Z",
     "start_time": "2021-01-20T01:24:31.543301Z"
    },
    "scrolled": false
   },
   "outputs": [],
   "source": [
    "ic.sort_values()"
   ]
  },
  {
   "cell_type": "code",
   "execution_count": null,
   "metadata": {
    "ExecuteTime": {
     "end_time": "2021-01-20T01:24:31.817830Z",
     "start_time": "2021-01-20T01:24:31.550903Z"
    }
   },
   "outputs": [],
   "source": [
    "title = 'Information Coeficient for Intraday Features (1-min forward returns)'\n",
    "ic.index = ic.index.map(str.upper)\n",
    "ax = ic.sort_values(ascending=False).plot.bar(figsize=(14, 4), title=title, rot=35)\n",
    "ax.set_ylabel('Information Coefficient')\n",
    "ax.yaxis.set_major_formatter(FuncFormatter(lambda y, _: '{:.1%}'.format(y))) \n",
    "sns.despine()\n",
    "plt.tight_layout();"
   ]
  },
  {
   "cell_type": "markdown",
   "metadata": {},
   "source": [
    "### Store results"
   ]
  },
  {
   "cell_type": "code",
   "execution_count": null,
   "metadata": {
    "ExecuteTime": {
     "end_time": "2021-01-20T01:24:32.789106Z",
     "start_time": "2021-01-20T01:24:31.818814Z"
    }
   },
   "outputs": [],
   "source": [
    "data.info(null_counts=True)"
   ]
  },
  {
   "cell_type": "code",
   "execution_count": null,
   "metadata": {
    "ExecuteTime": {
     "end_time": "2021-01-20T01:24:42.993197Z",
     "start_time": "2021-01-20T01:24:32.790098Z"
    }
   },
   "outputs": [],
   "source": [
    "data.drop(['date', 'up', 'down'], axis=1).to_hdf('data/algoseek.h5', 'model_data')"
   ]
  }
 ],
 "metadata": {
  "kernelspec": {
   "display_name": "Python 3 (ipykernel)",
   "language": "python",
   "name": "python3"
  },
  "language_info": {
   "codemirror_mode": {
    "name": "ipython",
    "version": 3
   },
   "file_extension": ".py",
   "mimetype": "text/x-python",
   "name": "python",
   "nbconvert_exporter": "python",
   "pygments_lexer": "ipython3",
   "version": "3.9.13"
  },
  "toc": {
   "base_numbering": 1,
   "nav_menu": {},
   "number_sections": true,
   "sideBar": true,
   "skip_h1_title": true,
   "title_cell": "Table of Contents",
   "title_sidebar": "Contents",
   "toc_cell": false,
   "toc_position": {},
   "toc_section_display": true,
   "toc_window_display": true
  }
 },
 "nbformat": 4,
 "nbformat_minor": 2
}
